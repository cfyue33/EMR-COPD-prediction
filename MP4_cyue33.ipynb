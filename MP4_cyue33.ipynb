{
 "cells": [
  {
   "cell_type": "markdown",
   "id": "adjusted-chart",
   "metadata": {},
   "source": [
    "## 3.1 Importing data"
   ]
  },
  {
   "cell_type": "code",
   "execution_count": 144,
   "id": "discrete-chest",
   "metadata": {
    "scrolled": true
   },
   "outputs": [
    {
     "name": "stderr",
     "output_type": "stream",
     "text": [
      "Warning message:\n",
      "\"Missing column names filled in: 'X4' [4], 'X6' [6], 'X10' [10], 'X11' [11], 'X12' [12], 'X13' [13]\"Parsed with column specification:\n",
      "cols(\n",
      "  Diagnosis = col_character(),\n",
      "  ID = col_character(),\n",
      "  `Imaginary Part` = col_character(),\n",
      "  X4 = col_character(),\n",
      "  `Real Part` = col_character(),\n",
      "  X6 = col_character(),\n",
      "  Gender = col_double(),\n",
      "  Age = col_double(),\n",
      "  Smoking = col_double(),\n",
      "  X10 = col_logical(),\n",
      "  X11 = col_logical(),\n",
      "  X12 = col_character(),\n",
      "  X13 = col_character()\n",
      ")\n"
     ]
    }
   ],
   "source": [
    "library(readr)\n",
    "library(rsample)\n",
    "library(MASS)\n",
    "setwd(\"C:/Users/chaof/Desktop/CS/CS6440/Assignments/MP4\")\n",
    "dataRaw <- read_csv(file = 'Exasens.csv')\n"
   ]
  },
  {
   "cell_type": "markdown",
   "id": "meaningful-smart",
   "metadata": {},
   "source": [
    "## 3.2 Descriptive analysis of the data\n",
    "\n",
    "### 3.2.1 Feature highlight\n",
    "According to the data source, the data table contains the following attributes: \n",
    "\n",
    "1- Diagnosis (COPD-HC-Asthma-Infected)\n",
    "2- ID\n",
    "3- Age\n",
    "4- Gender (1=male, 0=female)\n",
    "5- Smoking Status (1=Non-smoker, 2=Ex-smoker, 3=Active-smoker)\n",
    "6- Saliva Permittivity:\n",
    "a) Imaginary part (Min=Absolute minimum value, Avg=Average)\n",
    "b) Real part (Min, Avg)\n",
    "\n",
    "**In my study, the target feature is \"Diagnosis\", and two sets of input features were examined - one set containing both demographic info. (Gender, Age, and Smoking status) and permittivity values (Imaginary and Real parts) whereas a second set only containing the demographic info.**   "
   ]
  },
  {
   "cell_type": "code",
   "execution_count": 145,
   "id": "determined-chicago",
   "metadata": {},
   "outputs": [
    {
     "data": {
      "text/html": [
       "<table>\n",
       "<thead><tr><th scope=col>Diagnosis</th><th scope=col>ID</th><th scope=col>Imaginary Part</th><th scope=col>X4</th><th scope=col>Real Part</th><th scope=col>X6</th><th scope=col>Gender</th><th scope=col>Age</th><th scope=col>Smoking</th><th scope=col>X10</th><th scope=col>X11</th><th scope=col>X12</th><th scope=col>X13</th></tr></thead>\n",
       "<tbody>\n",
       "\t<tr><td>NA             </td><td>NA             </td><td>NA             </td><td>NA             </td><td>NA             </td><td>NA             </td><td>NA             </td><td>NA             </td><td>NA             </td><td>NA             </td><td>NA             </td><td>NA             </td><td>NA             </td></tr>\n",
       "\t<tr><td>NA             </td><td>NA             </td><td>Min            </td><td>Avg.           </td><td>Min            </td><td>Avg.           </td><td>NA             </td><td>NA             </td><td>NA             </td><td>NA             </td><td>NA             </td><td>Gender         </td><td>Somking        </td></tr>\n",
       "\t<tr><td>COPD           </td><td>301-4          </td><td>-320.61        </td><td>-300.5635307   </td><td>-495.26        </td><td>-464.1719907   </td><td> 1             </td><td>77             </td><td> 2             </td><td>NA             </td><td>NA             </td><td>Male=1         </td><td>Non-smoker=1   </td></tr>\n",
       "\t<tr><td>COPD           </td><td>302-3          </td><td>-325.39        </td><td>-314.7503595   </td><td>-473.73        </td><td>-469.2631404   </td><td> 0             </td><td>72             </td><td> 2             </td><td>NA             </td><td>NA             </td><td>Female=0       </td><td>Ex-smoker=2    </td></tr>\n",
       "\t<tr><td>COPD           </td><td>303-3          </td><td>-323           </td><td>-317.4360556   </td><td>-476.12        </td><td>-471.8976667   </td><td> 1             </td><td>73             </td><td> 3             </td><td>NA             </td><td>NA             </td><td>NA             </td><td>Active-smoker=3</td></tr>\n",
       "\t<tr><td>COPD           </td><td>304-4          </td><td>-327.78        </td><td>-317.3996698   </td><td>-473.73        </td><td>-468.856388    </td><td> 1             </td><td>76             </td><td> 2             </td><td>NA             </td><td>NA             </td><td>NA             </td><td>NA             </td></tr>\n",
       "</tbody>\n",
       "</table>\n"
      ],
      "text/latex": [
       "\\begin{tabular}{r|lllllllllllll}\n",
       " Diagnosis & ID & Imaginary Part & X4 & Real Part & X6 & Gender & Age & Smoking & X10 & X11 & X12 & X13\\\\\n",
       "\\hline\n",
       "\t NA              & NA              & NA              & NA              & NA              & NA              & NA              & NA              & NA              & NA              & NA              & NA              & NA             \\\\\n",
       "\t NA              & NA              & Min             & Avg.            & Min             & Avg.            & NA              & NA              & NA              & NA              & NA              & Gender          & Somking        \\\\\n",
       "\t COPD            & 301-4           & -320.61         & -300.5635307    & -495.26         & -464.1719907    &  1              & 77              &  2              & NA              & NA              & Male=1          & Non-smoker=1   \\\\\n",
       "\t COPD            & 302-3           & -325.39         & -314.7503595    & -473.73         & -469.2631404    &  0              & 72              &  2              & NA              & NA              & Female=0        & Ex-smoker=2    \\\\\n",
       "\t COPD            & 303-3           & -323            & -317.4360556    & -476.12         & -471.8976667    &  1              & 73              &  3              & NA              & NA              & NA              & Active-smoker=3\\\\\n",
       "\t COPD            & 304-4           & -327.78         & -317.3996698    & -473.73         & -468.856388     &  1              & 76              &  2              & NA              & NA              & NA              & NA             \\\\\n",
       "\\end{tabular}\n"
      ],
      "text/markdown": [
       "\n",
       "| Diagnosis | ID | Imaginary Part | X4 | Real Part | X6 | Gender | Age | Smoking | X10 | X11 | X12 | X13 |\n",
       "|---|---|---|---|---|---|---|---|---|---|---|---|---|\n",
       "| NA              | NA              | NA              | NA              | NA              | NA              | NA              | NA              | NA              | NA              | NA              | NA              | NA              |\n",
       "| NA              | NA              | Min             | Avg.            | Min             | Avg.            | NA              | NA              | NA              | NA              | NA              | Gender          | Somking         |\n",
       "| COPD            | 301-4           | -320.61         | -300.5635307    | -495.26         | -464.1719907    |  1              | 77              |  2              | NA              | NA              | Male=1          | Non-smoker=1    |\n",
       "| COPD            | 302-3           | -325.39         | -314.7503595    | -473.73         | -469.2631404    |  0              | 72              |  2              | NA              | NA              | Female=0        | Ex-smoker=2     |\n",
       "| COPD            | 303-3           | -323            | -317.4360556    | -476.12         | -471.8976667    |  1              | 73              |  3              | NA              | NA              | NA              | Active-smoker=3 |\n",
       "| COPD            | 304-4           | -327.78         | -317.3996698    | -473.73         | -468.856388     |  1              | 76              |  2              | NA              | NA              | NA              | NA              |\n",
       "\n"
      ],
      "text/plain": [
       "  Diagnosis ID    Imaginary Part X4           Real Part X6           Gender Age\n",
       "1 NA        NA    NA             NA           NA        NA           NA     NA \n",
       "2 NA        NA    Min            Avg.         Min       Avg.         NA     NA \n",
       "3 COPD      301-4 -320.61        -300.5635307 -495.26   -464.1719907  1     77 \n",
       "4 COPD      302-3 -325.39        -314.7503595 -473.73   -469.2631404  0     72 \n",
       "5 COPD      303-3 -323           -317.4360556 -476.12   -471.8976667  1     73 \n",
       "6 COPD      304-4 -327.78        -317.3996698 -473.73   -468.856388   1     76 \n",
       "  Smoking X10 X11 X12      X13            \n",
       "1 NA      NA  NA  NA       NA             \n",
       "2 NA      NA  NA  Gender   Somking        \n",
       "3  2      NA  NA  Male=1   Non-smoker=1   \n",
       "4  2      NA  NA  Female=0 Ex-smoker=2    \n",
       "5  3      NA  NA  NA       Active-smoker=3\n",
       "6  2      NA  NA  NA       NA             "
      ]
     },
     "metadata": {},
     "output_type": "display_data"
    },
    {
     "data": {
      "text/html": [
       "<table>\n",
       "<thead><tr><th scope=col>Diagnosis</th><th scope=col>ID</th><th scope=col>Imaginary Part</th><th scope=col>X4</th><th scope=col>Real Part</th><th scope=col>X6</th><th scope=col>Gender</th><th scope=col>Age</th><th scope=col>Smoking</th></tr></thead>\n",
       "<tbody>\n",
       "\t<tr><td>NA          </td><td>NA          </td><td>NA          </td><td>NA          </td><td>NA          </td><td>NA          </td><td>NA          </td><td>NA          </td><td>NA          </td></tr>\n",
       "\t<tr><td>NA          </td><td>NA          </td><td>Min         </td><td>Avg.        </td><td>Min         </td><td>Avg.        </td><td>NA          </td><td>NA          </td><td>NA          </td></tr>\n",
       "\t<tr><td>COPD        </td><td>301-4       </td><td>-320.61     </td><td>-300.5635307</td><td>-495.26     </td><td>-464.1719907</td><td> 1          </td><td>77          </td><td> 2          </td></tr>\n",
       "\t<tr><td>COPD        </td><td>302-3       </td><td>-325.39     </td><td>-314.7503595</td><td>-473.73     </td><td>-469.2631404</td><td> 0          </td><td>72          </td><td> 2          </td></tr>\n",
       "\t<tr><td>COPD        </td><td>303-3       </td><td>-323        </td><td>-317.4360556</td><td>-476.12     </td><td>-471.8976667</td><td> 1          </td><td>73          </td><td> 3          </td></tr>\n",
       "\t<tr><td>COPD        </td><td>304-4       </td><td>-327.78     </td><td>-317.3996698</td><td>-473.73     </td><td>-468.856388 </td><td> 1          </td><td>76          </td><td> 2          </td></tr>\n",
       "</tbody>\n",
       "</table>\n"
      ],
      "text/latex": [
       "\\begin{tabular}{r|lllllllll}\n",
       " Diagnosis & ID & Imaginary Part & X4 & Real Part & X6 & Gender & Age & Smoking\\\\\n",
       "\\hline\n",
       "\t NA           & NA           & NA           & NA           & NA           & NA           & NA           & NA           & NA          \\\\\n",
       "\t NA           & NA           & Min          & Avg.         & Min          & Avg.         & NA           & NA           & NA          \\\\\n",
       "\t COPD         & 301-4        & -320.61      & -300.5635307 & -495.26      & -464.1719907 &  1           & 77           &  2          \\\\\n",
       "\t COPD         & 302-3        & -325.39      & -314.7503595 & -473.73      & -469.2631404 &  0           & 72           &  2          \\\\\n",
       "\t COPD         & 303-3        & -323         & -317.4360556 & -476.12      & -471.8976667 &  1           & 73           &  3          \\\\\n",
       "\t COPD         & 304-4        & -327.78      & -317.3996698 & -473.73      & -468.856388  &  1           & 76           &  2          \\\\\n",
       "\\end{tabular}\n"
      ],
      "text/markdown": [
       "\n",
       "| Diagnosis | ID | Imaginary Part | X4 | Real Part | X6 | Gender | Age | Smoking |\n",
       "|---|---|---|---|---|---|---|---|---|\n",
       "| NA           | NA           | NA           | NA           | NA           | NA           | NA           | NA           | NA           |\n",
       "| NA           | NA           | Min          | Avg.         | Min          | Avg.         | NA           | NA           | NA           |\n",
       "| COPD         | 301-4        | -320.61      | -300.5635307 | -495.26      | -464.1719907 |  1           | 77           |  2           |\n",
       "| COPD         | 302-3        | -325.39      | -314.7503595 | -473.73      | -469.2631404 |  0           | 72           |  2           |\n",
       "| COPD         | 303-3        | -323         | -317.4360556 | -476.12      | -471.8976667 |  1           | 73           |  3           |\n",
       "| COPD         | 304-4        | -327.78      | -317.3996698 | -473.73      | -468.856388  |  1           | 76           |  2           |\n",
       "\n"
      ],
      "text/plain": [
       "  Diagnosis ID    Imaginary Part X4           Real Part X6           Gender Age\n",
       "1 NA        NA    NA             NA           NA        NA           NA     NA \n",
       "2 NA        NA    Min            Avg.         Min       Avg.         NA     NA \n",
       "3 COPD      301-4 -320.61        -300.5635307 -495.26   -464.1719907  1     77 \n",
       "4 COPD      302-3 -325.39        -314.7503595 -473.73   -469.2631404  0     72 \n",
       "5 COPD      303-3 -323           -317.4360556 -476.12   -471.8976667  1     73 \n",
       "6 COPD      304-4 -327.78        -317.3996698 -473.73   -468.856388   1     76 \n",
       "  Smoking\n",
       "1 NA     \n",
       "2 NA     \n",
       "3  2     \n",
       "4  2     \n",
       "5  3     \n",
       "6  2     "
      ]
     },
     "metadata": {},
     "output_type": "display_data"
    }
   ],
   "source": [
    "head(dataRaw)\n",
    "\n",
    "# removing unneeded columns\n",
    "dataRaw <- dataRaw[c(-(10:13))]\n",
    "\n",
    "head(dataRaw) "
   ]
  },
  {
   "cell_type": "markdown",
   "id": "amazing-vienna",
   "metadata": {},
   "source": [
    "### 3.2.2 Subsetting and characterizing data\n",
    "As below shows, dataset1 is created so that 1) only \"COPD\" and \"HC\" are the target values and 2) both demographic and permitivity values are used as input features. This creates a dataset of 80 points without any missing values. Some conversion of feature data type was done. \n",
    "\n",
    "dataset2 is created so that 1) only \"COPD\" and \"HC\" are the target values and 2) only demographic info. is used as input features. This creates a dataset of 239 points without any missing values. "
   ]
  },
  {
   "cell_type": "code",
   "execution_count": 146,
   "id": "powerful-century",
   "metadata": {},
   "outputs": [
    {
     "data": {
      "text/html": [
       "<table>\n",
       "<thead><tr><th scope=col>Diagnosis</th><th scope=col>Imaginary_min</th><th scope=col>Imaginary_avg</th><th scope=col>Real_min</th><th scope=col>Real_avg</th><th scope=col>Gender</th><th scope=col>Age</th><th scope=col>Smoking</th></tr></thead>\n",
       "<tbody>\n",
       "\t<tr><td>COPD        </td><td>-320.61     </td><td>-300.5635307</td><td>-495.26     </td><td>-464.1719907</td><td>1           </td><td>77          </td><td>2           </td></tr>\n",
       "\t<tr><td>COPD        </td><td>-325.39     </td><td>-314.7503595</td><td>-473.73     </td><td>-469.2631404</td><td>0           </td><td>72          </td><td>2           </td></tr>\n",
       "\t<tr><td>COPD        </td><td>-323        </td><td>-317.4360556</td><td>-476.12     </td><td>-471.8976667</td><td>1           </td><td>73          </td><td>3           </td></tr>\n",
       "\t<tr><td>COPD        </td><td>-327.78     </td><td>-317.3996698</td><td>-473.73     </td><td>-468.856388 </td><td>1           </td><td>76          </td><td>2           </td></tr>\n",
       "\t<tr><td>COPD        </td><td>-325.39     </td><td>-316.1557853</td><td>-478.52     </td><td>-472.8697828</td><td>0           </td><td>65          </td><td>2           </td></tr>\n",
       "\t<tr><td>COPD        </td><td>-327.78     </td><td>-318.6775535</td><td>-507.23     </td><td>-469.0241943</td><td>1           </td><td>60          </td><td>2           </td></tr>\n",
       "</tbody>\n",
       "</table>\n"
      ],
      "text/latex": [
       "\\begin{tabular}{r|llllllll}\n",
       " Diagnosis & Imaginary\\_min & Imaginary\\_avg & Real\\_min & Real\\_avg & Gender & Age & Smoking\\\\\n",
       "\\hline\n",
       "\t COPD         & -320.61      & -300.5635307 & -495.26      & -464.1719907 & 1            & 77           & 2           \\\\\n",
       "\t COPD         & -325.39      & -314.7503595 & -473.73      & -469.2631404 & 0            & 72           & 2           \\\\\n",
       "\t COPD         & -323         & -317.4360556 & -476.12      & -471.8976667 & 1            & 73           & 3           \\\\\n",
       "\t COPD         & -327.78      & -317.3996698 & -473.73      & -468.856388  & 1            & 76           & 2           \\\\\n",
       "\t COPD         & -325.39      & -316.1557853 & -478.52      & -472.8697828 & 0            & 65           & 2           \\\\\n",
       "\t COPD         & -327.78      & -318.6775535 & -507.23      & -469.0241943 & 1            & 60           & 2           \\\\\n",
       "\\end{tabular}\n"
      ],
      "text/markdown": [
       "\n",
       "| Diagnosis | Imaginary_min | Imaginary_avg | Real_min | Real_avg | Gender | Age | Smoking |\n",
       "|---|---|---|---|---|---|---|---|\n",
       "| COPD         | -320.61      | -300.5635307 | -495.26      | -464.1719907 | 1            | 77           | 2            |\n",
       "| COPD         | -325.39      | -314.7503595 | -473.73      | -469.2631404 | 0            | 72           | 2            |\n",
       "| COPD         | -323         | -317.4360556 | -476.12      | -471.8976667 | 1            | 73           | 3            |\n",
       "| COPD         | -327.78      | -317.3996698 | -473.73      | -468.856388  | 1            | 76           | 2            |\n",
       "| COPD         | -325.39      | -316.1557853 | -478.52      | -472.8697828 | 0            | 65           | 2            |\n",
       "| COPD         | -327.78      | -318.6775535 | -507.23      | -469.0241943 | 1            | 60           | 2            |\n",
       "\n"
      ],
      "text/plain": [
       "  Diagnosis Imaginary_min Imaginary_avg Real_min Real_avg     Gender Age\n",
       "1 COPD      -320.61       -300.5635307  -495.26  -464.1719907 1      77 \n",
       "2 COPD      -325.39       -314.7503595  -473.73  -469.2631404 0      72 \n",
       "3 COPD      -323          -317.4360556  -476.12  -471.8976667 1      73 \n",
       "4 COPD      -327.78       -317.3996698  -473.73  -468.856388  1      76 \n",
       "5 COPD      -325.39       -316.1557853  -478.52  -472.8697828 0      65 \n",
       "6 COPD      -327.78       -318.6775535  -507.23  -469.0241943 1      60 \n",
       "  Smoking\n",
       "1 2      \n",
       "2 2      \n",
       "3 3      \n",
       "4 2      \n",
       "5 2      \n",
       "6 2      "
      ]
     },
     "metadata": {},
     "output_type": "display_data"
    },
    {
     "name": "stdout",
     "output_type": "stream",
     "text": [
      "Classes 'tbl_df', 'tbl' and 'data.frame':\t80 obs. of  8 variables:\n",
      " $ Diagnosis    : chr  \"COPD\" \"COPD\" \"COPD\" \"COPD\" ...\n",
      " $ Imaginary_min: chr  \"-320.61\" \"-325.39\" \"-323\" \"-327.78\" ...\n",
      " $ Imaginary_avg: chr  \"-300.5635307\" \"-314.7503595\" \"-317.4360556\" \"-317.3996698\" ...\n",
      " $ Real_min     : chr  \"-495.26\" \"-473.73\" \"-476.12\" \"-473.73\" ...\n",
      " $ Real_avg     : chr  \"-464.1719907\" \"-469.2631404\" \"-471.8976667\" \"-468.856388\" ...\n",
      " $ Gender       : num  1 0 1 1 0 1 1 1 1 1 ...\n",
      " $ Age          : num  77 72 73 76 65 60 76 74 67 65 ...\n",
      " $ Smoking      : num  2 2 3 2 2 2 2 2 2 2 ...\n",
      "Classes 'tbl_df', 'tbl' and 'data.frame':\t80 obs. of  8 variables:\n",
      " $ Diagnosis    : chr  \"COPD\" \"COPD\" \"COPD\" \"COPD\" ...\n",
      " $ Imaginary_min: num  -321 -325 -323 -328 -325 ...\n",
      " $ Imaginary_avg: num  -301 -315 -317 -317 -316 ...\n",
      " $ Real_min     : num  -495 -474 -476 -474 -479 ...\n",
      " $ Real_avg     : num  -464 -469 -472 -469 -473 ...\n",
      " $ Gender       : num  1 0 1 1 0 1 1 1 1 1 ...\n",
      " $ Age          : num  77 72 73 76 65 60 76 74 67 65 ...\n",
      " $ Smoking      : num  2 2 3 2 2 2 2 2 2 2 ...\n"
     ]
    }
   ],
   "source": [
    "# define dataset1 with both demographic and permittivity values, for COPD and HC groups only (80 samples)\n",
    "dataSet1 <- dataRaw[c(-2)]\n",
    "dataSet1 <- subset(dataSet1, (dataSet1$Diagnosis == \"COPD\" | dataSet1$Diagnosis ==\"HC\") & (dataSet1$'Imaginary Part' != '<NA>'))\n",
    "colnames(dataSet1) <- c(\"Diagnosis\", \"Imaginary_min\", \"Imaginary_avg\", \"Real_min\", \"Real_avg\", \"Gender\", \"Age\", \"Smoking\")\n",
    "head(dataSet1)\n",
    "str(dataSet1)\n",
    "\n",
    "# convert to the correct data types\n",
    "dataSet1$Imaginary_min <- as.numeric(dataSet1$Imaginary_min)\n",
    "dataSet1$Imaginary_avg <- as.numeric(dataSet1$Imaginary_avg)\n",
    "dataSet1$Real_min <- as.numeric(dataSet1$Real_min)\n",
    "dataSet1$Real_avg <- as.numeric(dataSet1$Real_avg)\n",
    "str(dataSet1)\n"
   ]
  },
  {
   "cell_type": "code",
   "execution_count": 147,
   "id": "addressed-water",
   "metadata": {},
   "outputs": [
    {
     "data": {
      "text/html": [
       "<table>\n",
       "<thead><tr><th scope=col>Diagnosis</th><th scope=col>Gender</th><th scope=col>Age</th><th scope=col>Smoking</th></tr></thead>\n",
       "<tbody>\n",
       "\t<tr><td>NA  </td><td>NA  </td><td>NA  </td><td>NA  </td></tr>\n",
       "\t<tr><td>NA  </td><td>NA  </td><td>NA  </td><td>NA  </td></tr>\n",
       "\t<tr><td>COPD</td><td> 1  </td><td>77  </td><td> 2  </td></tr>\n",
       "\t<tr><td>COPD</td><td> 0  </td><td>72  </td><td> 2  </td></tr>\n",
       "\t<tr><td>COPD</td><td> 1  </td><td>73  </td><td> 3  </td></tr>\n",
       "\t<tr><td>COPD</td><td> 1  </td><td>76  </td><td> 2  </td></tr>\n",
       "</tbody>\n",
       "</table>\n"
      ],
      "text/latex": [
       "\\begin{tabular}{r|llll}\n",
       " Diagnosis & Gender & Age & Smoking\\\\\n",
       "\\hline\n",
       "\t NA   & NA   & NA   & NA  \\\\\n",
       "\t NA   & NA   & NA   & NA  \\\\\n",
       "\t COPD &  1   & 77   &  2  \\\\\n",
       "\t COPD &  0   & 72   &  2  \\\\\n",
       "\t COPD &  1   & 73   &  3  \\\\\n",
       "\t COPD &  1   & 76   &  2  \\\\\n",
       "\\end{tabular}\n"
      ],
      "text/markdown": [
       "\n",
       "| Diagnosis | Gender | Age | Smoking |\n",
       "|---|---|---|---|\n",
       "| NA   | NA   | NA   | NA   |\n",
       "| NA   | NA   | NA   | NA   |\n",
       "| COPD |  1   | 77   |  2   |\n",
       "| COPD |  0   | 72   |  2   |\n",
       "| COPD |  1   | 73   |  3   |\n",
       "| COPD |  1   | 76   |  2   |\n",
       "\n"
      ],
      "text/plain": [
       "  Diagnosis Gender Age Smoking\n",
       "1 NA        NA     NA  NA     \n",
       "2 NA        NA     NA  NA     \n",
       "3 COPD       1     77   2     \n",
       "4 COPD       0     72   2     \n",
       "5 COPD       1     73   3     \n",
       "6 COPD       1     76   2     "
      ]
     },
     "metadata": {},
     "output_type": "display_data"
    },
    {
     "data": {
      "text/plain": [
       "  Diagnosis             Gender            Age           Smoking     \n",
       " Length:239         Min.   :0.0000   Min.   :17.00   Min.   :1.000  \n",
       " Class :character   1st Qu.:0.0000   1st Qu.:32.50   1st Qu.:1.000  \n",
       " Mode  :character   Median :0.0000   Median :50.00   Median :2.000  \n",
       "                    Mean   :0.4686   Mean   :49.86   Mean   :1.762  \n",
       "                    3rd Qu.:1.0000   3rd Qu.:66.50   3rd Qu.:2.000  \n",
       "                    Max.   :1.0000   Max.   :93.00   Max.   :3.000  "
      ]
     },
     "metadata": {},
     "output_type": "display_data"
    }
   ],
   "source": [
    "# define dataset2 with only demographic info., for COPD and HC groups only (239 samples)\n",
    "dataSet2 <- dataRaw[c(-(2:6))]\n",
    "head(dataSet2)\n",
    "dataSet2 <- subset(dataSet2, dataRaw$Diagnosis == \"COPD\" | dataRaw$Diagnosis ==\"HC\")\n",
    "summary(dataSet2)"
   ]
  },
  {
   "cell_type": "markdown",
   "id": "addressed-basic",
   "metadata": {},
   "source": [
    "## 3.3 Data cleaning and modeling\n",
    "### 3.3.1 Modeling with both demographic and permittivity features "
   ]
  },
  {
   "cell_type": "code",
   "execution_count": 148,
   "id": "daily-sailing",
   "metadata": {},
   "outputs": [
    {
     "data": {
      "text/html": [
       "<table>\n",
       "<thead><tr><th scope=col>Diagnosis</th><th scope=col>Imaginary_min</th><th scope=col>Imaginary_avg</th><th scope=col>Real_min</th><th scope=col>Real_avg</th><th scope=col>Gender</th><th scope=col>Age</th><th scope=col>Smoking</th></tr></thead>\n",
       "<tbody>\n",
       "\t<tr><td>1        </td><td>-320.61  </td><td>-300.5635</td><td>-495.26  </td><td>-464.1720</td><td>1        </td><td>77       </td><td>2        </td></tr>\n",
       "\t<tr><td>1        </td><td>-325.39  </td><td>-314.7504</td><td>-473.73  </td><td>-469.2631</td><td>0        </td><td>72       </td><td>2        </td></tr>\n",
       "\t<tr><td>1        </td><td>-323.00  </td><td>-317.4361</td><td>-476.12  </td><td>-471.8977</td><td>1        </td><td>73       </td><td>3        </td></tr>\n",
       "\t<tr><td>1        </td><td>-327.78  </td><td>-317.3997</td><td>-473.73  </td><td>-468.8564</td><td>1        </td><td>76       </td><td>2        </td></tr>\n",
       "\t<tr><td>1        </td><td>-325.39  </td><td>-316.1558</td><td>-478.52  </td><td>-472.8698</td><td>0        </td><td>65       </td><td>2        </td></tr>\n",
       "\t<tr><td>1        </td><td>-327.78  </td><td>-318.6776</td><td>-507.23  </td><td>-469.0242</td><td>1        </td><td>60       </td><td>2        </td></tr>\n",
       "</tbody>\n",
       "</table>\n"
      ],
      "text/latex": [
       "\\begin{tabular}{r|llllllll}\n",
       " Diagnosis & Imaginary\\_min & Imaginary\\_avg & Real\\_min & Real\\_avg & Gender & Age & Smoking\\\\\n",
       "\\hline\n",
       "\t 1         & -320.61   & -300.5635 & -495.26   & -464.1720 & 1         & 77        & 2        \\\\\n",
       "\t 1         & -325.39   & -314.7504 & -473.73   & -469.2631 & 0         & 72        & 2        \\\\\n",
       "\t 1         & -323.00   & -317.4361 & -476.12   & -471.8977 & 1         & 73        & 3        \\\\\n",
       "\t 1         & -327.78   & -317.3997 & -473.73   & -468.8564 & 1         & 76        & 2        \\\\\n",
       "\t 1         & -325.39   & -316.1558 & -478.52   & -472.8698 & 0         & 65        & 2        \\\\\n",
       "\t 1         & -327.78   & -318.6776 & -507.23   & -469.0242 & 1         & 60        & 2        \\\\\n",
       "\\end{tabular}\n"
      ],
      "text/markdown": [
       "\n",
       "| Diagnosis | Imaginary_min | Imaginary_avg | Real_min | Real_avg | Gender | Age | Smoking |\n",
       "|---|---|---|---|---|---|---|---|\n",
       "| 1         | -320.61   | -300.5635 | -495.26   | -464.1720 | 1         | 77        | 2         |\n",
       "| 1         | -325.39   | -314.7504 | -473.73   | -469.2631 | 0         | 72        | 2         |\n",
       "| 1         | -323.00   | -317.4361 | -476.12   | -471.8977 | 1         | 73        | 3         |\n",
       "| 1         | -327.78   | -317.3997 | -473.73   | -468.8564 | 1         | 76        | 2         |\n",
       "| 1         | -325.39   | -316.1558 | -478.52   | -472.8698 | 0         | 65        | 2         |\n",
       "| 1         | -327.78   | -318.6776 | -507.23   | -469.0242 | 1         | 60        | 2         |\n",
       "\n"
      ],
      "text/plain": [
       "  Diagnosis Imaginary_min Imaginary_avg Real_min Real_avg  Gender Age Smoking\n",
       "1 1         -320.61       -300.5635     -495.26  -464.1720 1      77  2      \n",
       "2 1         -325.39       -314.7504     -473.73  -469.2631 0      72  2      \n",
       "3 1         -323.00       -317.4361     -476.12  -471.8977 1      73  3      \n",
       "4 1         -327.78       -317.3997     -473.73  -468.8564 1      76  2      \n",
       "5 1         -325.39       -316.1558     -478.52  -472.8698 0      65  2      \n",
       "6 1         -327.78       -318.6776     -507.23  -469.0242 1      60  2      "
      ]
     },
     "metadata": {},
     "output_type": "display_data"
    },
    {
     "name": "stdout",
     "output_type": "stream",
     "text": [
      "Classes 'tbl_df', 'tbl' and 'data.frame':\t80 obs. of  8 variables:\n",
      " $ Diagnosis    : num  1 1 1 1 1 1 1 1 1 1 ...\n",
      " $ Imaginary_min: num  -321 -325 -323 -328 -325 ...\n",
      " $ Imaginary_avg: num  -301 -315 -317 -317 -316 ...\n",
      " $ Real_min     : num  -495 -474 -476 -474 -479 ...\n",
      " $ Real_avg     : num  -464 -469 -472 -469 -473 ...\n",
      " $ Gender       : num  1 0 1 1 0 1 1 1 1 1 ...\n",
      " $ Age          : num  77 72 73 76 65 60 76 74 67 65 ...\n",
      " $ Smoking      : num  2 2 3 2 2 2 2 2 2 2 ...\n"
     ]
    },
    {
     "data": {
      "text/plain": [
       "\n",
       " 0  1 \n",
       "40 40 "
      ]
     },
     "metadata": {},
     "output_type": "display_data"
    },
    {
     "data": {
      "text/plain": [
       "\n",
       " 0  1 \n",
       "30 30 "
      ]
     },
     "metadata": {},
     "output_type": "display_data"
    },
    {
     "data": {
      "text/plain": [
       "\n",
       " 0  1 \n",
       "10 10 "
      ]
     },
     "metadata": {},
     "output_type": "display_data"
    }
   ],
   "source": [
    "# modeling dataSet1\n",
    "# classification model using regression\n",
    "\n",
    "# Convert to classfication values: HC to \"0\" and COPD to \"1\"\n",
    "dataSet1$Diagnosis[dataSet1$Diagnosis== 'HC'] <- 0\n",
    "dataSet1$Diagnosis[dataSet1$Diagnosis== 'COPD'] <- 1\n",
    "# convert the Diagnosis column to numeric \n",
    "dataSet1$Diagnosis <- as.numeric(dataSet1$Diagnosis)\n",
    "head(dataSet1)\n",
    "str(dataSet1)\n",
    "\n",
    "# check the distribution of responses: 40 '0' (HC) and 40 '1' (COPD)\n",
    "table(dataSet1$Diagnosis) \n",
    "\n",
    "# Set the seed to produce reproducible results as random sampling is done in the next step\n",
    "set.seed(456)\n",
    "\n",
    "# divide the data into 75% for training and 25% for testing\n",
    "split_strat  <- initial_split(dataSet1, prop = 0.75, strata = \"Diagnosis\")\n",
    "dataSet1.learn  <- training(split_strat)\n",
    "dataSet1.test   <- testing(split_strat)\n",
    "table(dataSet1.learn$Diagnosis)  # 30 \"0\"s (HC) and 30 \"1\"s (COPD)\n",
    "table(dataSet1.test$Diagnosis)   # 10 \"0\"s (HC) and 10 \"1\"s (COPD)"
   ]
  },
  {
   "cell_type": "code",
   "execution_count": 149,
   "id": "mobile-barrier",
   "metadata": {},
   "outputs": [
    {
     "data": {
      "text/plain": [
       "\n",
       "Call:\n",
       "lm(formula = Diagnosis ~ ., data = dataSet1.learn)\n",
       "\n",
       "Residuals:\n",
       "     Min       1Q   Median       3Q      Max \n",
       "-0.56518 -0.12665  0.03239  0.15716  0.54742 \n",
       "\n",
       "Coefficients:\n",
       "               Estimate Std. Error t value Pr(>|t|)    \n",
       "(Intercept)    0.365538   1.483311   0.246   0.8063    \n",
       "Imaginary_min -0.012516   0.008234  -1.520   0.1345    \n",
       "Imaginary_avg  0.011868   0.008898   1.334   0.1881    \n",
       "Real_min       0.004070   0.001961   2.075   0.0429 *  \n",
       "Real_avg      -0.001223   0.003769  -0.324   0.7469    \n",
       "Gender         0.118566   0.075876   1.563   0.1242    \n",
       "Age            0.021486   0.001991  10.792 7.01e-15 ***\n",
       "Smoking       -0.043866   0.063684  -0.689   0.4940    \n",
       "---\n",
       "Signif. codes:  0 '***' 0.001 '**' 0.01 '*' 0.05 '.' 0.1 ' ' 1\n",
       "\n",
       "Residual standard error: 0.2592 on 52 degrees of freedom\n",
       "Multiple R-squared:  0.7671,\tAdjusted R-squared:  0.7358 \n",
       "F-statistic: 24.47 on 7 and 52 DF,  p-value: 2.265e-14\n"
      ]
     },
     "metadata": {},
     "output_type": "display_data"
    }
   ],
   "source": [
    "# model #1: linear regression\n",
    "model1.1 <- lm (Diagnosis~ ., data = dataSet1.learn)\n",
    "summary(model1.1)"
   ]
  },
  {
   "cell_type": "markdown",
   "id": "successful-soccer",
   "metadata": {},
   "source": [
    "Noticing the order of magnitude differences among the values of the coefficients (estimates), data standardization was conducted in the following section before modeling again (\"model1.2\")."
   ]
  },
  {
   "cell_type": "code",
   "execution_count": 150,
   "id": "cognitive-trade",
   "metadata": {},
   "outputs": [
    {
     "data": {
      "text/html": [
       "<dl class=dl-horizontal>\n",
       "\t<dt>Diagnosis</dt>\n",
       "\t\t<dd>0.5</dd>\n",
       "\t<dt>Imaginary_min</dt>\n",
       "\t\t<dd>-5.34063534137393e-16</dd>\n",
       "\t<dt>Imaginary_avg</dt>\n",
       "\t\t<dd>1.91339999400242e-16</dd>\n",
       "\t<dt>Real_min</dt>\n",
       "\t\t<dd>1.04083408558608e-16</dd>\n",
       "\t<dt>Real_avg</dt>\n",
       "\t\t<dd>9.53924439439646e-16</dd>\n",
       "\t<dt>Gender</dt>\n",
       "\t\t<dd>1.11022302462516e-16</dd>\n",
       "\t<dt>Age</dt>\n",
       "\t\t<dd>-9.84636272978919e-17</dd>\n",
       "\t<dt>Smoking</dt>\n",
       "\t\t<dd>1.40628249785853e-16</dd>\n",
       "</dl>\n"
      ],
      "text/latex": [
       "\\begin{description*}\n",
       "\\item[Diagnosis] 0.5\n",
       "\\item[Imaginary\\textbackslash{}\\_min] -5.34063534137393e-16\n",
       "\\item[Imaginary\\textbackslash{}\\_avg] 1.91339999400242e-16\n",
       "\\item[Real\\textbackslash{}\\_min] 1.04083408558608e-16\n",
       "\\item[Real\\textbackslash{}\\_avg] 9.53924439439646e-16\n",
       "\\item[Gender] 1.11022302462516e-16\n",
       "\\item[Age] -9.84636272978919e-17\n",
       "\\item[Smoking] 1.40628249785853e-16\n",
       "\\end{description*}\n"
      ],
      "text/markdown": [
       "Diagnosis\n",
       ":   0.5Imaginary_min\n",
       ":   -5.34063534137393e-16Imaginary_avg\n",
       ":   1.91339999400242e-16Real_min\n",
       ":   1.04083408558608e-16Real_avg\n",
       ":   9.53924439439646e-16Gender\n",
       ":   1.11022302462516e-16Age\n",
       ":   -9.84636272978919e-17Smoking\n",
       ":   1.40628249785853e-16\n",
       "\n"
      ],
      "text/plain": [
       "    Diagnosis Imaginary_min Imaginary_avg      Real_min      Real_avg \n",
       " 5.000000e-01 -5.340635e-16  1.913400e-16  1.040834e-16  9.539244e-16 \n",
       "       Gender           Age       Smoking \n",
       " 1.110223e-16 -9.846363e-17  1.406282e-16 "
      ]
     },
     "metadata": {},
     "output_type": "display_data"
    },
    {
     "data": {
      "text/html": [
       "<dl class=dl-horizontal>\n",
       "\t<dt>Diagnosis</dt>\n",
       "\t\t<dd>0.504219484089611</dd>\n",
       "\t<dt>Imaginary_min</dt>\n",
       "\t\t<dd>1</dd>\n",
       "\t<dt>Imaginary_avg</dt>\n",
       "\t\t<dd>1</dd>\n",
       "\t<dt>Real_min</dt>\n",
       "\t\t<dd>1</dd>\n",
       "\t<dt>Real_avg</dt>\n",
       "\t\t<dd>1</dd>\n",
       "\t<dt>Gender</dt>\n",
       "\t\t<dd>1</dd>\n",
       "\t<dt>Age</dt>\n",
       "\t\t<dd>1</dd>\n",
       "\t<dt>Smoking</dt>\n",
       "\t\t<dd>1</dd>\n",
       "</dl>\n"
      ],
      "text/latex": [
       "\\begin{description*}\n",
       "\\item[Diagnosis] 0.504219484089611\n",
       "\\item[Imaginary\\textbackslash{}\\_min] 1\n",
       "\\item[Imaginary\\textbackslash{}\\_avg] 1\n",
       "\\item[Real\\textbackslash{}\\_min] 1\n",
       "\\item[Real\\textbackslash{}\\_avg] 1\n",
       "\\item[Gender] 1\n",
       "\\item[Age] 1\n",
       "\\item[Smoking] 1\n",
       "\\end{description*}\n"
      ],
      "text/markdown": [
       "Diagnosis\n",
       ":   0.504219484089611Imaginary_min\n",
       ":   1Imaginary_avg\n",
       ":   1Real_min\n",
       ":   1Real_avg\n",
       ":   1Gender\n",
       ":   1Age\n",
       ":   1Smoking\n",
       ":   1\n",
       "\n"
      ],
      "text/plain": [
       "    Diagnosis Imaginary_min Imaginary_avg      Real_min      Real_avg \n",
       "    0.5042195     1.0000000     1.0000000     1.0000000     1.0000000 \n",
       "       Gender           Age       Smoking \n",
       "    1.0000000     1.0000000     1.0000000 "
      ]
     },
     "metadata": {},
     "output_type": "display_data"
    },
    {
     "data": {
      "text/plain": [
       "\n",
       "Call:\n",
       "lm(formula = Diagnosis ~ ., data = dataSet1.learnStd)\n",
       "\n",
       "Residuals:\n",
       "     Min       1Q   Median       3Q      Max \n",
       "-0.56518 -0.12665  0.03239  0.15716  0.54742 \n",
       "\n",
       "Coefficients:\n",
       "              Estimate Std. Error t value Pr(>|t|)    \n",
       "(Intercept)    0.50000    0.03346  14.944  < 2e-16 ***\n",
       "Imaginary_min -0.33030    0.21729  -1.520   0.1345    \n",
       "Imaginary_avg  0.28757    0.21560   1.334   0.1881    \n",
       "Real_min       0.10933    0.05269   2.075   0.0429 *  \n",
       "Real_avg      -0.01466    0.04518  -0.324   0.7469    \n",
       "Gender         0.05479    0.03506   1.563   0.1242    \n",
       "Age            0.43007    0.03985  10.792 7.01e-15 ***\n",
       "Smoking       -0.02817    0.04090  -0.689   0.4940    \n",
       "---\n",
       "Signif. codes:  0 '***' 0.001 '**' 0.01 '*' 0.05 '.' 0.1 ' ' 1\n",
       "\n",
       "Residual standard error: 0.2592 on 52 degrees of freedom\n",
       "Multiple R-squared:  0.7671,\tAdjusted R-squared:  0.7358 \n",
       "F-statistic: 24.47 on 7 and 52 DF,  p-value: 2.265e-14\n"
      ]
     },
     "metadata": {},
     "output_type": "display_data"
    }
   ],
   "source": [
    "# data standardization to a mean of zero and a standard deviation of one:\n",
    "dataSet1.learnStd <- dataSet1.learn\n",
    "dataSet1.learnStd$Imaginary_min <- (dataSet1.learn$Imaginary_min - mean(dataSet1.learn$Imaginary_min))/sd(dataSet1.learn$Imaginary_min)\n",
    "dataSet1.learnStd$Imaginary_avg <- (dataSet1.learn$Imaginary_avg - mean(dataSet1.learn$Imaginary_avg))/sd(dataSet1.learn$Imaginary_avg)\n",
    "dataSet1.learnStd$Real_min <- (dataSet1.learn$Real_min - mean(dataSet1.learn$Real_min)) / sd(dataSet1.learn$Real_min)\n",
    "dataSet1.learnStd$Real_avg <- (dataSet1.learn$Real_avg - mean(dataSet1.learn$Real_avg)) / sd(dataSet1.learn$Real_avg)\n",
    "dataSet1.learnStd$Gender <- (dataSet1.learn$Gender - mean(dataSet1.learn$Gender)) / sd(dataSet1.learn$Gender)\n",
    "dataSet1.learnStd$Age <- (dataSet1.learn$Age - mean(dataSet1.learn$Age)) / sd(dataSet1.learn$Age)\n",
    "dataSet1.learnStd$Smoking <- (dataSet1.learn$Smoking - mean(dataSet1.learn$Smoking)) / sd(dataSet1.learn$Smoking)\n",
    "\n",
    "# checking the results of standardization \n",
    "colMeans (dataSet1.learnStd)\n",
    "apply(dataSet1.learnStd, 2, sd)\n",
    "\n",
    "# re-run lm function:\n",
    "model1.2 <- lm (Diagnosis~ ., data = dataSet1.learnStd)\n",
    "summary(model1.2)"
   ]
  },
  {
   "cell_type": "markdown",
   "id": "awful-sessions",
   "metadata": {},
   "source": [
    "The results of \"model1.2\" shows that only two features/attributes are statistically significant for discriminating people with COPD vs. healthy people: the minimum value of the real part of the permittivity and the age. This is consistent with the indications from observations in Figure 2 and Figure 4 of the study (Zarrin, Roeckendorf, & Wenger, 2020). Re-fit the data with only thses two features, as \"model1.3\" shows below. "
   ]
  },
  {
   "cell_type": "code",
   "execution_count": 151,
   "id": "confidential-school",
   "metadata": {},
   "outputs": [
    {
     "data": {
      "text/plain": [
       "\n",
       "Call:\n",
       "lm(formula = Diagnosis ~ Real_min + Age, data = dataSet1.learnStd)\n",
       "\n",
       "Residuals:\n",
       "     Min       1Q   Median       3Q      Max \n",
       "-0.65596 -0.14977  0.05649  0.15514  0.51200 \n",
       "\n",
       "Coefficients:\n",
       "            Estimate Std. Error t value Pr(>|t|)    \n",
       "(Intercept)  0.50000    0.03378  14.800   <2e-16 ***\n",
       "Real_min     0.04001    0.03427   1.167    0.248    \n",
       "Age          0.42751    0.03427  12.474   <2e-16 ***\n",
       "---\n",
       "Signif. codes:  0 '***' 0.001 '**' 0.01 '*' 0.05 '.' 0.1 ' ' 1\n",
       "\n",
       "Residual standard error: 0.2617 on 57 degrees of freedom\n",
       "Multiple R-squared:  0.7398,\tAdjusted R-squared:  0.7307 \n",
       "F-statistic: 81.03 on 2 and 57 DF,  p-value: < 2.2e-16\n"
      ]
     },
     "metadata": {},
     "output_type": "display_data"
    }
   ],
   "source": [
    "model1.3 <- lm (Diagnosis ~ Real_min + Age, data = dataSet1.learnStd)\n",
    "summary(model1.3)"
   ]
  },
  {
   "cell_type": "markdown",
   "id": "delayed-candidate",
   "metadata": {},
   "source": [
    "**model1.3 is selected for further evaluation on performance in Section 4.**"
   ]
  },
  {
   "cell_type": "markdown",
   "id": "amended-lingerie",
   "metadata": {},
   "source": [
    "### 3.3.2 Modeling with just demographic features"
   ]
  },
  {
   "cell_type": "code",
   "execution_count": 152,
   "id": "acute-education",
   "metadata": {},
   "outputs": [
    {
     "data": {
      "text/html": [
       "<table>\n",
       "<thead><tr><th scope=col>Diagnosis</th><th scope=col>Gender</th><th scope=col>Age</th><th scope=col>Smoking</th></tr></thead>\n",
       "<tbody>\n",
       "\t<tr><td>1 </td><td>1 </td><td>77</td><td>2 </td></tr>\n",
       "\t<tr><td>1 </td><td>0 </td><td>72</td><td>2 </td></tr>\n",
       "\t<tr><td>1 </td><td>1 </td><td>73</td><td>3 </td></tr>\n",
       "\t<tr><td>1 </td><td>1 </td><td>76</td><td>2 </td></tr>\n",
       "\t<tr><td>1 </td><td>0 </td><td>65</td><td>2 </td></tr>\n",
       "\t<tr><td>1 </td><td>1 </td><td>60</td><td>2 </td></tr>\n",
       "</tbody>\n",
       "</table>\n"
      ],
      "text/latex": [
       "\\begin{tabular}{r|llll}\n",
       " Diagnosis & Gender & Age & Smoking\\\\\n",
       "\\hline\n",
       "\t 1  & 1  & 77 & 2 \\\\\n",
       "\t 1  & 0  & 72 & 2 \\\\\n",
       "\t 1  & 1  & 73 & 3 \\\\\n",
       "\t 1  & 1  & 76 & 2 \\\\\n",
       "\t 1  & 0  & 65 & 2 \\\\\n",
       "\t 1  & 1  & 60 & 2 \\\\\n",
       "\\end{tabular}\n"
      ],
      "text/markdown": [
       "\n",
       "| Diagnosis | Gender | Age | Smoking |\n",
       "|---|---|---|---|\n",
       "| 1  | 1  | 77 | 2  |\n",
       "| 1  | 0  | 72 | 2  |\n",
       "| 1  | 1  | 73 | 3  |\n",
       "| 1  | 1  | 76 | 2  |\n",
       "| 1  | 0  | 65 | 2  |\n",
       "| 1  | 1  | 60 | 2  |\n",
       "\n"
      ],
      "text/plain": [
       "  Diagnosis Gender Age Smoking\n",
       "1 1         1      77  2      \n",
       "2 1         0      72  2      \n",
       "3 1         1      73  3      \n",
       "4 1         1      76  2      \n",
       "5 1         0      65  2      \n",
       "6 1         1      60  2      "
      ]
     },
     "metadata": {},
     "output_type": "display_data"
    },
    {
     "name": "stdout",
     "output_type": "stream",
     "text": [
      "Classes 'tbl_df', 'tbl' and 'data.frame':\t239 obs. of  4 variables:\n",
      " $ Diagnosis: num  1 1 1 1 1 1 1 1 1 1 ...\n",
      " $ Gender   : num  1 0 1 1 0 1 1 1 1 1 ...\n",
      " $ Age      : num  77 72 73 76 65 60 76 77 74 67 ...\n",
      " $ Smoking  : num  2 2 3 2 2 2 2 2 2 2 ...\n"
     ]
    },
    {
     "data": {
      "text/plain": [
       "\n",
       "  0   1 \n",
       "160  79 "
      ]
     },
     "metadata": {},
     "output_type": "display_data"
    },
    {
     "data": {
      "text/plain": [
       "\n",
       "  0   1 \n",
       "120  60 "
      ]
     },
     "metadata": {},
     "output_type": "display_data"
    },
    {
     "data": {
      "text/plain": [
       "\n",
       " 0  1 \n",
       "40 19 "
      ]
     },
     "metadata": {},
     "output_type": "display_data"
    }
   ],
   "source": [
    "# modeling dataSet2\n",
    "# Classification model using regression\n",
    "\n",
    "# Convert to classfication values: HC to \"0\" and COPD to \"1\"\n",
    "dataSet2$Diagnosis[dataSet2$Diagnosis== 'HC'] <- 0\n",
    "dataSet2$Diagnosis[dataSet2$Diagnosis== 'COPD'] <- 1\n",
    "# convert the Diagnosis column to numeric \n",
    "dataSet2$Diagnosis <- as.numeric(dataSet2$Diagnosis)\n",
    "head(dataSet2)\n",
    "str(dataSet2)\n",
    "\n",
    "# check the distribution of responses: 160 '0' (HC) and 79 '1' (COPD)\n",
    "table(dataSet2$Diagnosis) \n",
    "\n",
    "# Set the seed to produce reproducible results as random sampling is done in the next step\n",
    "set.seed(123)\n",
    "\n",
    "# divide the data into 75% for training and 25% for testing\n",
    "split_strat  <- initial_split(dataSet2, prop = 0.75, strata = \"Diagnosis\")\n",
    "dataSet2.learn  <- training(split_strat)\n",
    "dataSet2.test   <- testing(split_strat)\n",
    "table(dataSet2.learn$Diagnosis)  # 120 \"0\"s (HC) and 60 \"1\"s (COPD)\n",
    "table(dataSet2.test$Diagnosis)   # 40 \"0\"s (HC) and 19 \"1\"s (COPD)"
   ]
  },
  {
   "cell_type": "code",
   "execution_count": 153,
   "id": "naval-lawyer",
   "metadata": {},
   "outputs": [
    {
     "data": {
      "text/plain": [
       "\n",
       "Call:\n",
       "lm(formula = Diagnosis ~ ., data = dataSet2.learn)\n",
       "\n",
       "Residuals:\n",
       "     Min       1Q   Median       3Q      Max \n",
       "-0.68037 -0.21696  0.07439  0.20846  0.71739 \n",
       "\n",
       "Coefficients:\n",
       "             Estimate Std. Error t value Pr(>|t|)    \n",
       "(Intercept) -0.719518   0.071754 -10.028   <2e-16 ***\n",
       "Gender       0.099568   0.045159   2.205   0.0288 *  \n",
       "Age          0.017798   0.001202  14.802   <2e-16 ***\n",
       "Smoking      0.065001   0.030632   2.122   0.0352 *  \n",
       "---\n",
       "Signif. codes:  0 '***' 0.001 '**' 0.01 '*' 0.05 '.' 0.1 ' ' 1\n",
       "\n",
       "Residual standard error: 0.289 on 176 degrees of freedom\n",
       "Multiple R-squared:  0.6326,\tAdjusted R-squared:  0.6263 \n",
       "F-statistic:   101 on 3 and 176 DF,  p-value: < 2.2e-16\n"
      ]
     },
     "metadata": {},
     "output_type": "display_data"
    }
   ],
   "source": [
    "# model #1: linear regression\n",
    "model2.1 <- lm (Diagnosis~ ., data = dataSet2.learn)\n",
    "summary(model2.1)"
   ]
  },
  {
   "cell_type": "markdown",
   "id": "postal-organ",
   "metadata": {},
   "source": [
    "**model2.1 shows that all three demographic features, gender, age, and smoking status are statistically significant for the diagnosis of COPD.** "
   ]
  },
  {
   "cell_type": "code",
   "execution_count": 154,
   "id": "southeast-telescope",
   "metadata": {
    "scrolled": false
   },
   "outputs": [
    {
     "data": {
      "text/plain": [
       "\n",
       "Call:\n",
       "glm(formula = Diagnosis ~ ., family = binomial(link = \"logit\"), \n",
       "    data = dataSet2.learn)\n",
       "\n",
       "Deviance Residuals: \n",
       "     Min        1Q    Median        3Q       Max  \n",
       "-2.36988  -0.09044  -0.00314   0.09724   2.89442  \n",
       "\n",
       "Coefficients:\n",
       "             Estimate Std. Error z value Pr(>|z|)    \n",
       "(Intercept) -23.56566    4.47178  -5.270 1.37e-07 ***\n",
       "Gender        0.40471    0.76044   0.532   0.5946    \n",
       "Age           0.32902    0.06397   5.143 2.70e-07 ***\n",
       "Smoking       1.63504    0.57703   2.834   0.0046 ** \n",
       "---\n",
       "Signif. codes:  0 '***' 0.001 '**' 0.01 '*' 0.05 '.' 0.1 ' ' 1\n",
       "\n",
       "(Dispersion parameter for binomial family taken to be 1)\n",
       "\n",
       "    Null deviance: 229.145  on 179  degrees of freedom\n",
       "Residual deviance:  48.618  on 176  degrees of freedom\n",
       "AIC: 56.618\n",
       "\n",
       "Number of Fisher Scoring iterations: 8\n"
      ]
     },
     "metadata": {},
     "output_type": "display_data"
    }
   ],
   "source": [
    "# model #2.2: logistic regression\n",
    "\n",
    "model2.2 <- glm (Diagnosis~ ., family = binomial(link=\"logit\"), data = dataSet2.learn)\n",
    "summary(model2.2)"
   ]
  },
  {
   "cell_type": "markdown",
   "id": "neural-migration",
   "metadata": {},
   "source": [
    "model2.2 shows that gender is not significant, whereas age and smoking status are important in discriminating people with COPD vs. healthy people. "
   ]
  },
  {
   "cell_type": "code",
   "execution_count": 155,
   "id": "touched-startup",
   "metadata": {},
   "outputs": [
    {
     "data": {
      "text/plain": [
       "\n",
       "Call:\n",
       "lm(formula = Diagnosis ~ Age + Smoking, data = dataSet2.learn)\n",
       "\n",
       "Residuals:\n",
       "    Min      1Q  Median      3Q     Max \n",
       "-0.7407 -0.2296  0.1103  0.2045  0.6721 \n",
       "\n",
       "Coefficients:\n",
       "             Estimate Std. Error t value Pr(>|t|)    \n",
       "(Intercept) -0.714949   0.072503  -9.861   <2e-16 ***\n",
       "Age          0.018500   0.001172  15.782   <2e-16 ***\n",
       "Smoking      0.068181   0.030930   2.204   0.0288 *  \n",
       "---\n",
       "Signif. codes:  0 '***' 0.001 '**' 0.01 '*' 0.05 '.' 0.1 ' ' 1\n",
       "\n",
       "Residual standard error: 0.2921 on 177 degrees of freedom\n",
       "Multiple R-squared:  0.6224,\tAdjusted R-squared:  0.6182 \n",
       "F-statistic: 145.9 on 2 and 177 DF,  p-value: < 2.2e-16\n"
      ]
     },
     "metadata": {},
     "output_type": "display_data"
    }
   ],
   "source": [
    "# model2.2 shows that gender is not significant, so try lm fitting but with just age and smoking\n",
    "\n",
    "model2.3 <- lm (Diagnosis ~ Age + Smoking, dataSet2.learn)\n",
    "summary(model2.3)"
   ]
  },
  {
   "cell_type": "markdown",
   "id": "working-treasurer",
   "metadata": {},
   "source": [
    "The above results did not show improved fitting (in fact, adjusted R^2 is slightly lower than that of model1). **Therefore, model2.1 is selected for further evaluation on performance in Section 4.** "
   ]
  },
  {
   "cell_type": "markdown",
   "id": "illegal-prototype",
   "metadata": {},
   "source": [
    "## 3.4 Performance estimation\n",
    "### 3.4.1 Modeling with both demographic and permittivity features "
   ]
  },
  {
   "cell_type": "code",
   "execution_count": 156,
   "id": "medieval-nothing",
   "metadata": {},
   "outputs": [
    {
     "data": {
      "text/html": [
       "<table>\n",
       "<thead><tr><th scope=col>Diagnosis</th><th scope=col>Imaginary_min</th><th scope=col>Imaginary_avg</th><th scope=col>Real_min</th><th scope=col>Real_avg</th><th scope=col>Gender</th><th scope=col>Age</th><th scope=col>Smoking</th></tr></thead>\n",
       "<tbody>\n",
       "\t<tr><td>1        </td><td>-325.39  </td><td>-316.1558</td><td>-478.52  </td><td>-472.8698</td><td>0        </td><td>65       </td><td>2        </td></tr>\n",
       "\t<tr><td>1        </td><td>-320.61  </td><td>-307.5996</td><td>-476.12  </td><td>-470.1816</td><td>1        </td><td>74       </td><td>2        </td></tr>\n",
       "\t<tr><td>1        </td><td>-313.43  </td><td>-299.0552</td><td>-521.58  </td><td>-421.1894</td><td>1        </td><td>75       </td><td>2        </td></tr>\n",
       "\t<tr><td>1        </td><td>-311.04  </td><td>-297.9901</td><td>-466.55  </td><td>-428.9504</td><td>0        </td><td>65       </td><td>2        </td></tr>\n",
       "\t<tr><td>1        </td><td>-323.00  </td><td>-293.0288</td><td>-466.55  </td><td>-431.9907</td><td>1        </td><td>93       </td><td>2        </td></tr>\n",
       "\t<tr><td>1        </td><td>-228.00  </td><td>-228.0000</td><td>-442.00  </td><td>-442.0000</td><td>1        </td><td>75       </td><td>2        </td></tr>\n",
       "</tbody>\n",
       "</table>\n"
      ],
      "text/latex": [
       "\\begin{tabular}{r|llllllll}\n",
       " Diagnosis & Imaginary\\_min & Imaginary\\_avg & Real\\_min & Real\\_avg & Gender & Age & Smoking\\\\\n",
       "\\hline\n",
       "\t 1         & -325.39   & -316.1558 & -478.52   & -472.8698 & 0         & 65        & 2        \\\\\n",
       "\t 1         & -320.61   & -307.5996 & -476.12   & -470.1816 & 1         & 74        & 2        \\\\\n",
       "\t 1         & -313.43   & -299.0552 & -521.58   & -421.1894 & 1         & 75        & 2        \\\\\n",
       "\t 1         & -311.04   & -297.9901 & -466.55   & -428.9504 & 0         & 65        & 2        \\\\\n",
       "\t 1         & -323.00   & -293.0288 & -466.55   & -431.9907 & 1         & 93        & 2        \\\\\n",
       "\t 1         & -228.00   & -228.0000 & -442.00   & -442.0000 & 1         & 75        & 2        \\\\\n",
       "\\end{tabular}\n"
      ],
      "text/markdown": [
       "\n",
       "| Diagnosis | Imaginary_min | Imaginary_avg | Real_min | Real_avg | Gender | Age | Smoking |\n",
       "|---|---|---|---|---|---|---|---|\n",
       "| 1         | -325.39   | -316.1558 | -478.52   | -472.8698 | 0         | 65        | 2         |\n",
       "| 1         | -320.61   | -307.5996 | -476.12   | -470.1816 | 1         | 74        | 2         |\n",
       "| 1         | -313.43   | -299.0552 | -521.58   | -421.1894 | 1         | 75        | 2         |\n",
       "| 1         | -311.04   | -297.9901 | -466.55   | -428.9504 | 0         | 65        | 2         |\n",
       "| 1         | -323.00   | -293.0288 | -466.55   | -431.9907 | 1         | 93        | 2         |\n",
       "| 1         | -228.00   | -228.0000 | -442.00   | -442.0000 | 1         | 75        | 2         |\n",
       "\n"
      ],
      "text/plain": [
       "  Diagnosis Imaginary_min Imaginary_avg Real_min Real_avg  Gender Age Smoking\n",
       "1 1         -325.39       -316.1558     -478.52  -472.8698 0      65  2      \n",
       "2 1         -320.61       -307.5996     -476.12  -470.1816 1      74  2      \n",
       "3 1         -313.43       -299.0552     -521.58  -421.1894 1      75  2      \n",
       "4 1         -311.04       -297.9901     -466.55  -428.9504 0      65  2      \n",
       "5 1         -323.00       -293.0288     -466.55  -431.9907 1      93  2      \n",
       "6 1         -228.00       -228.0000     -442.00  -442.0000 1      75  2      "
      ]
     },
     "metadata": {},
     "output_type": "display_data"
    },
    {
     "data": {
      "text/html": [
       "<dl class=dl-horizontal>\n",
       "\t<dt>Diagnosis</dt>\n",
       "\t\t<dd>0.5</dd>\n",
       "\t<dt>Real_min</dt>\n",
       "\t\t<dd>1.05321453383249</dd>\n",
       "\t<dt>Age</dt>\n",
       "\t\t<dd>-0.00333065765073849</dd>\n",
       "</dl>\n"
      ],
      "text/latex": [
       "\\begin{description*}\n",
       "\\item[Diagnosis] 0.5\n",
       "\\item[Real\\textbackslash{}\\_min] 1.05321453383249\n",
       "\\item[Age] -0.00333065765073849\n",
       "\\end{description*}\n"
      ],
      "text/markdown": [
       "Diagnosis\n",
       ":   0.5Real_min\n",
       ":   1.05321453383249Age\n",
       ":   -0.00333065765073849\n",
       "\n"
      ],
      "text/plain": [
       "   Diagnosis     Real_min          Age \n",
       " 0.500000000  1.053214534 -0.003330658 "
      ]
     },
     "metadata": {},
     "output_type": "display_data"
    },
    {
     "data": {
      "text/html": [
       "<dl class=dl-horizontal>\n",
       "\t<dt>Diagnosis</dt>\n",
       "\t\t<dd>0.512989176042577</dd>\n",
       "\t<dt>Real_min</dt>\n",
       "\t\t<dd>3.6528162302554</dd>\n",
       "\t<dt>Age</dt>\n",
       "\t\t<dd>1.09383344008409</dd>\n",
       "</dl>\n"
      ],
      "text/latex": [
       "\\begin{description*}\n",
       "\\item[Diagnosis] 0.512989176042577\n",
       "\\item[Real\\textbackslash{}\\_min] 3.6528162302554\n",
       "\\item[Age] 1.09383344008409\n",
       "\\end{description*}\n"
      ],
      "text/markdown": [
       "Diagnosis\n",
       ":   0.512989176042577Real_min\n",
       ":   3.6528162302554Age\n",
       ":   1.09383344008409\n",
       "\n"
      ],
      "text/plain": [
       "Diagnosis  Real_min       Age \n",
       "0.5129892 3.6528162 1.0938334 "
      ]
     },
     "metadata": {},
     "output_type": "display_data"
    },
    {
     "name": "stdout",
     "output_type": "stream",
     "text": [
      "[1] 0.8421053\n",
      "Confusion Matrix and Statistics\n",
      "\n",
      "         Actual\n",
      "predicted 0 1\n",
      "        0 8 1\n",
      "        1 2 9\n",
      "                                          \n",
      "               Accuracy : 0.85            \n",
      "                 95% CI : (0.6211, 0.9679)\n",
      "    No Information Rate : 0.5             \n",
      "    P-Value [Acc > NIR] : 0.001288        \n",
      "                                          \n",
      "                  Kappa : 0.7             \n",
      "                                          \n",
      " Mcnemar's Test P-Value : 1.000000        \n",
      "                                          \n",
      "            Sensitivity : 0.8000          \n",
      "            Specificity : 0.9000          \n",
      "         Pos Pred Value : 0.8889          \n",
      "         Neg Pred Value : 0.8182          \n",
      "             Prevalence : 0.5000          \n",
      "         Detection Rate : 0.4000          \n",
      "   Detection Prevalence : 0.4500          \n",
      "      Balanced Accuracy : 0.8500          \n",
      "                                          \n",
      "       'Positive' Class : 0               \n",
      "                                          \n",
      "       F1 \n",
      "0.8421053 \n"
     ]
    },
    {
     "data": {
      "image/png": "[encoded data removed]",
      "text/plain": [
       "plot without title"
      ]
     },
     "metadata": {},
     "output_type": "display_data"
    }
   ],
   "source": [
    "library(caret)\n",
    "# first, process the Real_min and Age features of the test dataset.\n",
    "head(dataSet1.test)\n",
    "dataSet1.testStd <- dataSet1.test[c(1,4,7)]\n",
    "dataSet1.testStd$Diagnosis <- dataSet1.test$Diagnosis\n",
    "dataSet1.testStd$Real_min <- (dataSet1.test$Real_min - mean(dataSet1.learn$Real_min))/sd(dataSet1.learn$Real_min)\n",
    "dataSet1.testStd$Age <- (dataSet1.test$Age - mean(dataSet1.learn$Age))/sd(dataSet1.learn$Age)\n",
    "colMeans(dataSet1.testStd)\n",
    "apply(dataSet1.testStd, 2, sd)\n",
    "\n",
    "test.pred <- predict(model1.3, dataSet1.testStd)\n",
    "\n",
    "# testing output with multiple threshold values and find the best \n",
    "thresholdVector <- 0.05*seq(1,19)\n",
    "f1Score <- 0*thresholdVector\n",
    "idx <- 1\n",
    "for (thresholdProb in thresholdVector) {\n",
    "    pred <- ifelse(test.pred > thresholdProb, \"1\", \"0\")\n",
    "    confusionTb <- confusionMatrix(as.factor(pred), as.factor(dataSet1.testStd$Diagnosis), dnn = c(\"predicted\", \"Actual\"))\n",
    "    f1Score[idx] <- confusionTb$byClass['F1']\n",
    "    idx <- idx +1\n",
    "}\n",
    "plot(thresholdVector, f1Score)\n",
    "print(max(f1Score))            # probability thresold = 0.7 gives the highest F1 Score of 0.84\n",
    "\n",
    "# print out the confusion matrix for when probability threshold = 0.7\n",
    "predMax <- ifelse(test.pred > 0.7, \"1\", \"0\")\n",
    "confusionTbMax <- confusionMatrix(as.factor(predMax), as.factor(dataSet1.testStd$Diagnosis), dnn = c(\"predicted\", \"Actual\"))\n",
    "print(confusionTbMax)\n",
    "print(confusionTbMax$byClass['F1'])"
   ]
  },
  {
   "cell_type": "markdown",
   "id": "lined-chance",
   "metadata": {},
   "source": [
    "### 3.4.2 Modelling with just demographic features"
   ]
  },
  {
   "cell_type": "code",
   "execution_count": 157,
   "id": "several-attitude",
   "metadata": {},
   "outputs": [
    {
     "name": "stdout",
     "output_type": "stream",
     "text": [
      "[1] 0.952381\n",
      "Confusion Matrix and Statistics\n",
      "\n",
      "         Actual\n",
      "predicted  0  1\n",
      "        0 40  4\n",
      "        1  0 15\n",
      "                                          \n",
      "               Accuracy : 0.9322          \n",
      "                 95% CI : (0.8354, 0.9812)\n",
      "    No Information Rate : 0.678           \n",
      "    P-Value [Acc > NIR] : 2.977e-06       \n",
      "                                          \n",
      "                  Kappa : 0.8357          \n",
      "                                          \n",
      " Mcnemar's Test P-Value : 0.1336          \n",
      "                                          \n",
      "            Sensitivity : 1.0000          \n",
      "            Specificity : 0.7895          \n",
      "         Pos Pred Value : 0.9091          \n",
      "         Neg Pred Value : 1.0000          \n",
      "             Prevalence : 0.6780          \n",
      "         Detection Rate : 0.6780          \n",
      "   Detection Prevalence : 0.7458          \n",
      "      Balanced Accuracy : 0.8947          \n",
      "                                          \n",
      "       'Positive' Class : 0               \n",
      "                                          \n",
      "      F1 \n",
      "0.952381 \n"
     ]
    },
    {
     "data": {
      "image/png": "[encoded data removed]",
      "text/plain": [
       "plot without title"
      ]
     },
     "metadata": {},
     "output_type": "display_data"
    }
   ],
   "source": [
    "library(caret)\n",
    "test.pred <- predict(model2.1, dataSet2.test)\n",
    "\n",
    "# testing output with multiple threshold values and find the best \n",
    "\n",
    "thresholdVector <- 0.05*seq(1,19)\n",
    "f1Score <- 0*thresholdVector\n",
    "idx <- 1\n",
    "for (thresholdProb in thresholdVector) {\n",
    "    pred <- ifelse(test.pred > thresholdProb, \"1\", \"0\")\n",
    "    confusionTb <- confusionMatrix(as.factor(pred), as.factor(dataSet2.test$Diagnosis), dnn = c(\"predicted\", \"Actual\"))\n",
    "    f1Score[idx] <- confusionTb$byClass['F1']\n",
    "    idx <- idx +1\n",
    "}\n",
    "plot(thresholdVector, f1Score)\n",
    "print(max(f1Score))   # probability thresold = 0.6 gives the highest F1 Score of 0.95\n",
    "\n",
    "# print out the confusion matrix for when probability threshold = 0.6\n",
    "predMax <- ifelse(test.pred > 0.6, \"1\", \"0\")\n",
    "confusionTbMax <- confusionMatrix(as.factor(predMax), as.factor(dataSet2.test$Diagnosis), dnn = c(\"predicted\", \"Actual\"))\n",
    "print(confusionTbMax)\n",
    "print(confusionTbMax$byClass['F1'])"
   ]
  },
  {
   "cell_type": "markdown",
   "id": "cheap-patio",
   "metadata": {},
   "source": [
    "### 3.4.3 Comparison of the two models\n",
    "As illustrated above, the best threshold value for each model was identified to be 0.7 for model1.3 and 0.6 for model2.1 respectively, which give a F1 Score of 0.84 and 0.95 respectively. With better performance and ease of data collection, model2.1, modeling with just demographic infomration, including gender, age, and smoking status of the patient, was chosen as the final solution. \n",
    "\n",
    "**The final equation for predicting whether one has COPD or not is: \n",
    "Probability = -0.719518 + 0.099568 * Gender + 0.017798 * Age + 0.065001 * Smoking, where\n",
    "Gender = \"1\" for Male and \"0\" for Female,\n",
    "Smoking = \"1\" for non-smoker, \"2\" for ex-smoker, and \"3\" for active-smoker.\n",
    "Use 0.6 as the threshold probability value, i.e., If probability >= 0.6, the subject is predicted to have COPD, otherwise, non-COPD.**  "
   ]
  }
 ],
 "metadata": {
  "kernelspec": {
   "display_name": "R",
   "language": "R",
   "name": "ir"
  },
  "language_info": {
   "codemirror_mode": "r",
   "file_extension": ".r",
   "mimetype": "text/x-r-source",
   "name": "R",
   "pygments_lexer": "r",
   "version": "3.6.1"
  }
 },
 "nbformat": 4,
 "nbformat_minor": 5
}
